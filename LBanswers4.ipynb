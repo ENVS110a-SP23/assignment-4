{
 "cells": [
  {
   "cell_type": "markdown",
   "metadata": {},
   "source": [
    "# Assigment 4: Data Analysis and Visualization\n",
    "\n",
    "Use as many Python and markdown cells per question as you deem necessary. **DO NOT SUBMIT CODE THAT DOES NOT RUN.** You will lose points for code that throws errors. \n",
    "\n",
    "The data you will work with was taken from [Alaskan vegetation plots](https://daac.ornl.gov/ABOVE/guides/Arrigetch_Peaks_Veg_Plots.html) from 1978-1981. The data set is in the `data/` subdirectory in this repo in two .csv files containing information about research plots and the plant species covering the plots. **Please read the descriptions for the data, as they will help you answer the questions.** \n",
    "\n",
    "**Table 1: Data files**\n",
    "| Data File Name |\tDescription |\n",
    "| --- | --- |\n",
    "| Arrigetch_Peaks_Environmental_Data.csv| Environmental characterization data for Arrigetch Peaks research plots |\n",
    "| Arrigetch_Peaks_Species_Data.csv | Species cover data for Arrigetch Peaks research plots|\n",
    "\n",
    "**Table 2. Arrigetch_Peaks_Environmental_Data.csv**\n",
    "| Column Name\t| Units\t| Description |\n",
    "| --- | --- | --- |\n",
    "| TURBOVEG_PLOT_NUMBER\t |\t | TURBOVEG plot number |\n",
    "| PLANT_COMMUNITY_NAME\t|  |\tPrimary vegetation types |\n",
    "| ELEVATION |\tm\t| Elevation of the plots |\n",
    "| ASPECT\t| deg\t| Aspect of the plots |\n",
    "| SLOPE\t| deg\t| Slope of the plots |\n",
    "| COVER_LITTER_LAYER\t| % |\tPercentage of litter layer cover in the plot |\n",
    "|COVER_OPEN_WATER\t| % | \tPercentage of open water cover in the plot |\n",
    "| COVER_ROCK\t| % |\tPercentage of rock cover in the plot |\n",
    "| COVER_CRUST\t| % |\tPercentage of crust cover in the plot |\n",
    "| COVER_BARE_SOIL\t| % |\tPercentage of bare soil cover in the plot|\n",
    "| REMARKS\t |  |\tField notes |\n",
    "\n",
    "**Table 3. Arrigetch_Peaks_Species_Data.csv**\n",
    "| Column Name\t| Units\t| Description |\n",
    "| --- | --- | --- |\n",
    "| TURBOVEG_PLOT_NUMBER\t |\t | TURBOVEG plot number |\n",
    "| species name | | data values are Species Cover Classes: where r (rare), + (common, but less than 1% cover), 1 (1-5 percent), 2 (6 to 25%), 3 (25 to 50%), 4 (51 to 75%), 5 (76 to 100%). |"
   ]
  },
  {
   "cell_type": "markdown",
   "metadata": {},
   "source": [
    "## Question 1: Pandas (15 pt)\n",
    "\n",
    "Load the two data sets into Python with Pandas. Name the environmental data frame `env`, and the species data frame `species`. Display the first few rows of each data frame. What are the dimensions of the two data frames? (2 pt)\n",
    "\n",
    "Replace all values in both data frames that are `-9999` with `np.NaN`. (1 pt)\n",
    "\n",
    "Print how many unique plant community names there are. (1 pt)\n",
    "\n",
    "Print summary statistics for all numerical columns in `env`, excluding `\"TURBOVEG_PLOT_NUMBER\"`. (2 pt)\n",
    "\n",
    "Merge the two data frames together by the column `TURBO_PLOT_NUMBER`. (1 pt)\n",
    "\n",
    "How many rows in the merged data frame contain missing data? (1 pt)\n",
    "\n",
    "Which species was present in the most plots? (3 pt)\n",
    "\n",
    "For all rows in `species`, calculate the sum of all the columns (excluding `\"TURBOVEG_PLOT_NUMBER\"`) for each row. Add this sum as a new column called `\"totals\"`. (2 pt)\n",
    "\n",
    "Read the description included above for the `species` data frame. Are there any inconsistencies between the description and the data? Explain. If there are inconsistences, what would you do to correct them? (2 pt)"
   ]
  },
  {
   "attachments": {},
   "cell_type": "markdown",
   "metadata": {},
   "source": [
    "## Question 1 part 1"
   ]
  },
  {
   "cell_type": "code",
   "execution_count": 2,
   "metadata": {},
   "outputs": [
    {
     "data": {
      "text/html": [
       "<div>\n",
       "<style scoped>\n",
       "    .dataframe tbody tr th:only-of-type {\n",
       "        vertical-align: middle;\n",
       "    }\n",
       "\n",
       "    .dataframe tbody tr th {\n",
       "        vertical-align: top;\n",
       "    }\n",
       "\n",
       "    .dataframe thead th {\n",
       "        text-align: right;\n",
       "    }\n",
       "</style>\n",
       "<table border=\"1\" class=\"dataframe\">\n",
       "  <thead>\n",
       "    <tr style=\"text-align: right;\">\n",
       "      <th></th>\n",
       "      <th>TURBOVEG_PLOT_NUMBER</th>\n",
       "      <th>PLANT_COMMUNITY_NAME</th>\n",
       "      <th>ELEVATION</th>\n",
       "      <th>ASPECT</th>\n",
       "      <th>SLOPE</th>\n",
       "      <th>COVER_LITTER_LAYER</th>\n",
       "      <th>COVER_OPEN_WATER</th>\n",
       "      <th>COVER_ROCK</th>\n",
       "      <th>COVER_CRUST</th>\n",
       "      <th>COVER_BARE_SOIL</th>\n",
       "      <th>REMARKS</th>\n",
       "    </tr>\n",
       "  </thead>\n",
       "  <tbody>\n",
       "    <tr>\n",
       "      <th>0</th>\n",
       "      <td>10925</td>\n",
       "      <td>Ass. Umbilicarietum pensylvanicae-carolinianae</td>\n",
       "      <td>1090</td>\n",
       "      <td>45</td>\n",
       "      <td>-9999</td>\n",
       "      <td>0</td>\n",
       "      <td>0</td>\n",
       "      <td>0</td>\n",
       "      <td>0</td>\n",
       "      <td>0</td>\n",
       "      <td>Crustose and foliose lichen dominated vegetati...</td>\n",
       "    </tr>\n",
       "    <tr>\n",
       "      <th>1</th>\n",
       "      <td>10926</td>\n",
       "      <td>Ass. Umbilicarietum pensylvanicae-carolinianae</td>\n",
       "      <td>920</td>\n",
       "      <td>315</td>\n",
       "      <td>-9999</td>\n",
       "      <td>0</td>\n",
       "      <td>0</td>\n",
       "      <td>0</td>\n",
       "      <td>0</td>\n",
       "      <td>0</td>\n",
       "      <td>Crustose and foliose lichen dominated vegetati...</td>\n",
       "    </tr>\n",
       "    <tr>\n",
       "      <th>2</th>\n",
       "      <td>10927</td>\n",
       "      <td>Ass. Umbilicarietum pensylvanicae-carolinianae</td>\n",
       "      <td>940</td>\n",
       "      <td>270</td>\n",
       "      <td>-9999</td>\n",
       "      <td>0</td>\n",
       "      <td>0</td>\n",
       "      <td>0</td>\n",
       "      <td>0</td>\n",
       "      <td>0</td>\n",
       "      <td>Crustose and foliose lichen dominated vegetati...</td>\n",
       "    </tr>\n",
       "    <tr>\n",
       "      <th>3</th>\n",
       "      <td>10928</td>\n",
       "      <td>Ass. Umbilicarietum pensylvanicae-carolinianae</td>\n",
       "      <td>950</td>\n",
       "      <td>225</td>\n",
       "      <td>-9999</td>\n",
       "      <td>0</td>\n",
       "      <td>0</td>\n",
       "      <td>0</td>\n",
       "      <td>0</td>\n",
       "      <td>0</td>\n",
       "      <td>Umbilicaria arctica = in original Umbilicaria ...</td>\n",
       "    </tr>\n",
       "    <tr>\n",
       "      <th>4</th>\n",
       "      <td>10929</td>\n",
       "      <td>Ass. Umbilicarietum pensylvanicae-carolinianae</td>\n",
       "      <td>935</td>\n",
       "      <td>270</td>\n",
       "      <td>-9999</td>\n",
       "      <td>0</td>\n",
       "      <td>0</td>\n",
       "      <td>0</td>\n",
       "      <td>0</td>\n",
       "      <td>0</td>\n",
       "      <td>Crustose and foliose lichen dominated vegetati...</td>\n",
       "    </tr>\n",
       "  </tbody>\n",
       "</table>\n",
       "</div>"
      ],
      "text/plain": [
       "   TURBOVEG_PLOT_NUMBER                            PLANT_COMMUNITY_NAME  \\\n",
       "0                 10925  Ass. Umbilicarietum pensylvanicae-carolinianae   \n",
       "1                 10926  Ass. Umbilicarietum pensylvanicae-carolinianae   \n",
       "2                 10927  Ass. Umbilicarietum pensylvanicae-carolinianae   \n",
       "3                 10928  Ass. Umbilicarietum pensylvanicae-carolinianae   \n",
       "4                 10929  Ass. Umbilicarietum pensylvanicae-carolinianae   \n",
       "\n",
       "   ELEVATION  ASPECT  SLOPE  COVER_LITTER_LAYER  COVER_OPEN_WATER  COVER_ROCK  \\\n",
       "0       1090      45  -9999                   0                 0           0   \n",
       "1        920     315  -9999                   0                 0           0   \n",
       "2        940     270  -9999                   0                 0           0   \n",
       "3        950     225  -9999                   0                 0           0   \n",
       "4        935     270  -9999                   0                 0           0   \n",
       "\n",
       "   COVER_CRUST  COVER_BARE_SOIL  \\\n",
       "0            0                0   \n",
       "1            0                0   \n",
       "2            0                0   \n",
       "3            0                0   \n",
       "4            0                0   \n",
       "\n",
       "                                             REMARKS  \n",
       "0  Crustose and foliose lichen dominated vegetati...  \n",
       "1  Crustose and foliose lichen dominated vegetati...  \n",
       "2  Crustose and foliose lichen dominated vegetati...  \n",
       "3  Umbilicaria arctica = in original Umbilicaria ...  \n",
       "4  Crustose and foliose lichen dominated vegetati...  "
      ]
     },
     "execution_count": 2,
     "metadata": {},
     "output_type": "execute_result"
    }
   ],
   "source": [
    "''' Load the two data sets into Python with Pandas. Name the environmental data frame env.''' \n",
    "import pandas as pd \n",
    "import numpy as np \n",
    "env = pd.read_csv ('Arrigetch_Peaks_Environmental_Data.csv') #works as long as .csv is in the same directory as your jupyter notebook\n",
    "env.head(5) #display the first few rows of the data frame\n"
   ]
  },
  {
   "cell_type": "code",
   "execution_count": 3,
   "metadata": {},
   "outputs": [
    {
     "data": {
      "text/plain": [
       "(439, 11)"
      ]
     },
     "execution_count": 3,
     "metadata": {},
     "output_type": "execute_result"
    }
   ],
   "source": [
    "env.shape #what are the dimensions? ---> 439 rows and 11 columns"
   ]
  },
  {
   "cell_type": "code",
   "execution_count": 20,
   "metadata": {},
   "outputs": [
    {
     "data": {
      "text/html": [
       "<div>\n",
       "<style scoped>\n",
       "    .dataframe tbody tr th:only-of-type {\n",
       "        vertical-align: middle;\n",
       "    }\n",
       "\n",
       "    .dataframe tbody tr th {\n",
       "        vertical-align: top;\n",
       "    }\n",
       "\n",
       "    .dataframe thead th {\n",
       "        text-align: right;\n",
       "    }\n",
       "</style>\n",
       "<table border=\"1\" class=\"dataframe\">\n",
       "  <thead>\n",
       "    <tr style=\"text-align: right;\">\n",
       "      <th></th>\n",
       "      <th>TURBOVEG_PLOT_NUMBER</th>\n",
       "      <th>Abietinella abietina</th>\n",
       "      <th>Acarospora schleicheri</th>\n",
       "      <th>Aconitum delphinifolium delphinifolium</th>\n",
       "      <th>Alectoria ochroleuca</th>\n",
       "      <th>Parmelia almquistii</th>\n",
       "      <th>Dactylina madreporiformis</th>\n",
       "      <th>Alnus crispa crispa</th>\n",
       "      <th>Amphidium mougeotii</th>\n",
       "      <th>Andreaea blyttii</th>\n",
       "      <th>...</th>\n",
       "      <th>Umbilicaria vellea</th>\n",
       "      <th>Vaccinium uliginosum microphyllum</th>\n",
       "      <th>Vaccinium uliginosum alpinum</th>\n",
       "      <th>Vaccinium vitis-idaea minus</th>\n",
       "      <th>Valeriana capitata</th>\n",
       "      <th>Cetraria tilesii</th>\n",
       "      <th>Wilhelmsia physodes</th>\n",
       "      <th>Woodsia alpina</th>\n",
       "      <th>Woodsia glabella</th>\n",
       "      <th>Xanthoria elegans</th>\n",
       "    </tr>\n",
       "  </thead>\n",
       "  <tbody>\n",
       "    <tr>\n",
       "      <th>0</th>\n",
       "      <td>10925</td>\n",
       "      <td>0.0</td>\n",
       "      <td>0.0</td>\n",
       "      <td>0.0</td>\n",
       "      <td>0.0</td>\n",
       "      <td>1.0</td>\n",
       "      <td>0.0</td>\n",
       "      <td>0</td>\n",
       "      <td>0</td>\n",
       "      <td>0.0</td>\n",
       "      <td>...</td>\n",
       "      <td>0.0</td>\n",
       "      <td>0</td>\n",
       "      <td>0.0</td>\n",
       "      <td>0.0</td>\n",
       "      <td>0.0</td>\n",
       "      <td>0.0</td>\n",
       "      <td>0</td>\n",
       "      <td>0.0</td>\n",
       "      <td>0.0</td>\n",
       "      <td>0</td>\n",
       "    </tr>\n",
       "    <tr>\n",
       "      <th>1</th>\n",
       "      <td>10926</td>\n",
       "      <td>0.0</td>\n",
       "      <td>0.0</td>\n",
       "      <td>0.0</td>\n",
       "      <td>6.0</td>\n",
       "      <td>0.0</td>\n",
       "      <td>0.0</td>\n",
       "      <td>0</td>\n",
       "      <td>0</td>\n",
       "      <td>0.0</td>\n",
       "      <td>...</td>\n",
       "      <td>0.5</td>\n",
       "      <td>0</td>\n",
       "      <td>0.0</td>\n",
       "      <td>0.0</td>\n",
       "      <td>0.0</td>\n",
       "      <td>0.0</td>\n",
       "      <td>0</td>\n",
       "      <td>0.0</td>\n",
       "      <td>0.0</td>\n",
       "      <td>0</td>\n",
       "    </tr>\n",
       "    <tr>\n",
       "      <th>2</th>\n",
       "      <td>10927</td>\n",
       "      <td>0.0</td>\n",
       "      <td>0.0</td>\n",
       "      <td>0.0</td>\n",
       "      <td>0.0</td>\n",
       "      <td>1.0</td>\n",
       "      <td>0.0</td>\n",
       "      <td>0</td>\n",
       "      <td>0</td>\n",
       "      <td>0.0</td>\n",
       "      <td>...</td>\n",
       "      <td>1.0</td>\n",
       "      <td>0</td>\n",
       "      <td>0.0</td>\n",
       "      <td>0.0</td>\n",
       "      <td>0.0</td>\n",
       "      <td>0.0</td>\n",
       "      <td>0</td>\n",
       "      <td>0.0</td>\n",
       "      <td>0.0</td>\n",
       "      <td>0</td>\n",
       "    </tr>\n",
       "    <tr>\n",
       "      <th>3</th>\n",
       "      <td>10928</td>\n",
       "      <td>0.0</td>\n",
       "      <td>0.0</td>\n",
       "      <td>0.0</td>\n",
       "      <td>0.0</td>\n",
       "      <td>0.0</td>\n",
       "      <td>0.0</td>\n",
       "      <td>0</td>\n",
       "      <td>0</td>\n",
       "      <td>0.0</td>\n",
       "      <td>...</td>\n",
       "      <td>0.0</td>\n",
       "      <td>0</td>\n",
       "      <td>0.0</td>\n",
       "      <td>0.0</td>\n",
       "      <td>0.0</td>\n",
       "      <td>0.0</td>\n",
       "      <td>0</td>\n",
       "      <td>0.0</td>\n",
       "      <td>0.0</td>\n",
       "      <td>0</td>\n",
       "    </tr>\n",
       "    <tr>\n",
       "      <th>4</th>\n",
       "      <td>10929</td>\n",
       "      <td>0.0</td>\n",
       "      <td>0.0</td>\n",
       "      <td>0.0</td>\n",
       "      <td>2.0</td>\n",
       "      <td>1.0</td>\n",
       "      <td>0.0</td>\n",
       "      <td>0</td>\n",
       "      <td>0</td>\n",
       "      <td>0.0</td>\n",
       "      <td>...</td>\n",
       "      <td>0.0</td>\n",
       "      <td>0</td>\n",
       "      <td>0.0</td>\n",
       "      <td>0.0</td>\n",
       "      <td>0.0</td>\n",
       "      <td>0.0</td>\n",
       "      <td>0</td>\n",
       "      <td>0.0</td>\n",
       "      <td>0.0</td>\n",
       "      <td>0</td>\n",
       "    </tr>\n",
       "  </tbody>\n",
       "</table>\n",
       "<p>5 rows × 409 columns</p>\n",
       "</div>"
      ],
      "text/plain": [
       "   TURBOVEG_PLOT_NUMBER  Abietinella abietina  Acarospora schleicheri  \\\n",
       "0                 10925                   0.0                     0.0   \n",
       "1                 10926                   0.0                     0.0   \n",
       "2                 10927                   0.0                     0.0   \n",
       "3                 10928                   0.0                     0.0   \n",
       "4                 10929                   0.0                     0.0   \n",
       "\n",
       "   Aconitum delphinifolium delphinifolium  Alectoria ochroleuca  \\\n",
       "0                                     0.0                   0.0   \n",
       "1                                     0.0                   6.0   \n",
       "2                                     0.0                   0.0   \n",
       "3                                     0.0                   0.0   \n",
       "4                                     0.0                   2.0   \n",
       "\n",
       "   Parmelia almquistii  Dactylina madreporiformis  Alnus crispa crispa  \\\n",
       "0                  1.0                        0.0                    0   \n",
       "1                  0.0                        0.0                    0   \n",
       "2                  1.0                        0.0                    0   \n",
       "3                  0.0                        0.0                    0   \n",
       "4                  1.0                        0.0                    0   \n",
       "\n",
       "   Amphidium mougeotii  Andreaea blyttii  ...  Umbilicaria vellea  \\\n",
       "0                    0               0.0  ...                 0.0   \n",
       "1                    0               0.0  ...                 0.5   \n",
       "2                    0               0.0  ...                 1.0   \n",
       "3                    0               0.0  ...                 0.0   \n",
       "4                    0               0.0  ...                 0.0   \n",
       "\n",
       "   Vaccinium uliginosum microphyllum  Vaccinium uliginosum alpinum  \\\n",
       "0                                  0                           0.0   \n",
       "1                                  0                           0.0   \n",
       "2                                  0                           0.0   \n",
       "3                                  0                           0.0   \n",
       "4                                  0                           0.0   \n",
       "\n",
       "   Vaccinium vitis-idaea minus  Valeriana capitata  Cetraria tilesii  \\\n",
       "0                          0.0                 0.0               0.0   \n",
       "1                          0.0                 0.0               0.0   \n",
       "2                          0.0                 0.0               0.0   \n",
       "3                          0.0                 0.0               0.0   \n",
       "4                          0.0                 0.0               0.0   \n",
       "\n",
       "   Wilhelmsia physodes  Woodsia alpina  Woodsia glabella  Xanthoria elegans  \n",
       "0                    0             0.0               0.0                  0  \n",
       "1                    0             0.0               0.0                  0  \n",
       "2                    0             0.0               0.0                  0  \n",
       "3                    0             0.0               0.0                  0  \n",
       "4                    0             0.0               0.0                  0  \n",
       "\n",
       "[5 rows x 409 columns]"
      ]
     },
     "execution_count": 20,
     "metadata": {},
     "output_type": "execute_result"
    }
   ],
   "source": [
    "species = pd.read_csv('Arrigetch_Peaks_Species_Data.csv') #works as long as .csv is in the same directory as your Jupyter notebook\n",
    "species.head(5) #Display the first few rows of the data frame"
   ]
  },
  {
   "cell_type": "code",
   "execution_count": 5,
   "metadata": {},
   "outputs": [
    {
     "data": {
      "text/plain": [
       "(439, 409)"
      ]
     },
     "execution_count": 5,
     "metadata": {},
     "output_type": "execute_result"
    }
   ],
   "source": [
    "species.shape #What are the dimensions? ---> 439 rows and 409 columns"
   ]
  },
  {
   "attachments": {},
   "cell_type": "markdown",
   "metadata": {},
   "source": [
    "## Question 1 Part 2\n"
   ]
  },
  {
   "attachments": {},
   "cell_type": "markdown",
   "metadata": {},
   "source": [
    "First, determine which columns of each dataframe have -9999. Replace the value directly into the same dataframe (not copy of it)"
   ]
  },
  {
   "cell_type": "code",
   "execution_count": 6,
   "metadata": {},
   "outputs": [
    {
     "data": {
      "text/plain": [
       "TURBOVEG_PLOT_NUMBER    False\n",
       "PLANT_COMMUNITY_NAME    False\n",
       "ELEVATION                True\n",
       "ASPECT                   True\n",
       "SLOPE                    True\n",
       "COVER_LITTER_LAYER      False\n",
       "COVER_OPEN_WATER        False\n",
       "COVER_ROCK              False\n",
       "COVER_CRUST             False\n",
       "COVER_BARE_SOIL         False\n",
       "REMARKS                 False\n",
       "dtype: bool"
      ]
     },
     "execution_count": 6,
     "metadata": {},
     "output_type": "execute_result"
    }
   ],
   "source": [
    "env.isin([-9999]).any() #Columns ELEVATION, ASPECT, and SLOPE have -9999"
   ]
  },
  {
   "attachments": {},
   "cell_type": "markdown",
   "metadata": {},
   "source": [
    "#### Use dictionary to specify which columns to replace, the value to replace (-9999) and the common replacement (np.NaN)\n",
    "#### inplace = True avoids copying the entire dataframe"
   ]
  },
  {
   "cell_type": "code",
   "execution_count": 7,
   "metadata": {},
   "outputs": [
    {
     "data": {
      "text/plain": [
       "TURBOVEG_PLOT_NUMBER    False\n",
       "PLANT_COMMUNITY_NAME    False\n",
       "ELEVATION               False\n",
       "ASPECT                  False\n",
       "SLOPE                   False\n",
       "COVER_LITTER_LAYER      False\n",
       "COVER_OPEN_WATER        False\n",
       "COVER_ROCK              False\n",
       "COVER_CRUST             False\n",
       "COVER_BARE_SOIL         False\n",
       "REMARKS                 False\n",
       "dtype: bool"
      ]
     },
     "execution_count": 7,
     "metadata": {},
     "output_type": "execute_result"
    }
   ],
   "source": [
    "env.replace({'ELEVATION': -9999, 'ASPECT': -9999, 'SLOPE': -9999}, np.NaN, inplace=True)\n",
    "env.isin([-9999]).any() #No more -9999 (all FALSE)"
   ]
  },
  {
   "attachments": {},
   "cell_type": "markdown",
   "metadata": {},
   "source": [
    "#### Here's how many times the replacement happened in each column of the env dataframe"
   ]
  },
  {
   "cell_type": "code",
   "execution_count": 8,
   "metadata": {},
   "outputs": [
    {
     "data": {
      "text/plain": [
       "TURBOVEG_PLOT_NUMBER      0\n",
       "PLANT_COMMUNITY_NAME      0\n",
       "ELEVATION                65\n",
       "ASPECT                  195\n",
       "SLOPE                   292\n",
       "COVER_LITTER_LAYER        0\n",
       "COVER_OPEN_WATER          0\n",
       "COVER_ROCK                0\n",
       "COVER_CRUST               0\n",
       "COVER_BARE_SOIL           0\n",
       "REMARKS                   0\n",
       "dtype: int64"
      ]
     },
     "execution_count": 8,
     "metadata": {},
     "output_type": "execute_result"
    }
   ],
   "source": [
    "env.isna().sum()"
   ]
  },
  {
   "attachments": {},
   "cell_type": "markdown",
   "metadata": {},
   "source": [
    "#### Since species dataframe is > 400 columns, first search for -9999, then filter the results for just those columns that have it.\n",
    "#### Evidently, there is nothing to replace in this one."
   ]
  },
  {
   "cell_type": "code",
   "execution_count": 9,
   "metadata": {},
   "outputs": [
    {
     "data": {
      "text/plain": [
       "Series([], dtype: bool)"
      ]
     },
     "execution_count": 9,
     "metadata": {},
     "output_type": "execute_result"
    }
   ],
   "source": [
    "search = species.isin([-9999]).any()\n",
    "search[search==True]"
   ]
  },
  {
   "attachments": {},
   "cell_type": "markdown",
   "metadata": {},
   "source": [
    "## Question 1 Part 3"
   ]
  },
  {
   "attachments": {},
   "cell_type": "markdown",
   "metadata": {},
   "source": [
    "#### Print how many unique plant community names there are. PLANT_COMMUNITY_NAME is a column in the env dataframe.\n",
    "### There are 51 Unique Communities."
   ]
  },
  {
   "cell_type": "code",
   "execution_count": 10,
   "metadata": {},
   "outputs": [
    {
     "data": {
      "text/plain": [
       "51"
      ]
     },
     "execution_count": 10,
     "metadata": {},
     "output_type": "execute_result"
    }
   ],
   "source": [
    "unique_communities = env['PLANT_COMMUNITY_NAME'].unique()\n",
    "len(unique_communities)"
   ]
  },
  {
   "attachments": {},
   "cell_type": "markdown",
   "metadata": {},
   "source": [
    "## Question 1 Part 4"
   ]
  },
  {
   "attachments": {},
   "cell_type": "markdown",
   "metadata": {},
   "source": [
    "#### Print summary statistics for all numerical columns in env, excluding \"TURBOVEG_PLOT_NUMBER\". \n",
    "#### Numerical columns of env will be either 'float64' (fractional) or 'int64' (integers). Non-numeric columns will be type 'object'."
   ]
  },
  {
   "cell_type": "code",
   "execution_count": 11,
   "metadata": {},
   "outputs": [
    {
     "data": {
      "text/plain": [
       "TURBOVEG_PLOT_NUMBER      int64\n",
       "PLANT_COMMUNITY_NAME     object\n",
       "ELEVATION               float64\n",
       "ASPECT                  float64\n",
       "SLOPE                   float64\n",
       "COVER_LITTER_LAYER        int64\n",
       "COVER_OPEN_WATER          int64\n",
       "COVER_ROCK                int64\n",
       "COVER_CRUST               int64\n",
       "COVER_BARE_SOIL           int64\n",
       "REMARKS                  object\n",
       "dtype: object"
      ]
     },
     "execution_count": 11,
     "metadata": {},
     "output_type": "execute_result"
    }
   ],
   "source": [
    "env_types = env.dtypes\n",
    "env_types #two columns are non-numeric"
   ]
  },
  {
   "attachments": {},
   "cell_type": "markdown",
   "metadata": {},
   "source": [
    "#### Discard the non-numeric columns or TURBOVEG_PLOT_NUMBER : retrieve all columns that are **not** one of these three"
   ]
  },
  {
   "cell_type": "code",
   "execution_count": 12,
   "metadata": {},
   "outputs": [
    {
     "data": {
      "text/plain": [
       "(439, 9)"
      ]
     },
     "execution_count": 12,
     "metadata": {},
     "output_type": "execute_result"
    }
   ],
   "source": [
    "env_numeric = env.loc[:,~env.columns.isin(['PLANT_COMMUNITY_NAMES', 'REMARKS', 'TURBOVEG_PLOT_NUMBER'])] #locate ('loc') all rows and columns not in the named list\n",
    "env_numeric.shape #Confirm we have discarded the three"
   ]
  },
  {
   "attachments": {},
   "cell_type": "markdown",
   "metadata": {},
   "source": [
    "#### Summary statistics of the remaining numeric columns.TURBOVEG_PLOT_NUMBER is omitted."
   ]
  },
  {
   "cell_type": "code",
   "execution_count": 13,
   "metadata": {},
   "outputs": [
    {
     "data": {
      "text/html": [
       "<div>\n",
       "<style scoped>\n",
       "    .dataframe tbody tr th:only-of-type {\n",
       "        vertical-align: middle;\n",
       "    }\n",
       "\n",
       "    .dataframe tbody tr th {\n",
       "        vertical-align: top;\n",
       "    }\n",
       "\n",
       "    .dataframe thead th {\n",
       "        text-align: right;\n",
       "    }\n",
       "</style>\n",
       "<table border=\"1\" class=\"dataframe\">\n",
       "  <thead>\n",
       "    <tr style=\"text-align: right;\">\n",
       "      <th></th>\n",
       "      <th>ELEVATION</th>\n",
       "      <th>ASPECT</th>\n",
       "      <th>SLOPE</th>\n",
       "      <th>COVER_LITTER_LAYER</th>\n",
       "      <th>COVER_OPEN_WATER</th>\n",
       "      <th>COVER_ROCK</th>\n",
       "      <th>COVER_CRUST</th>\n",
       "      <th>COVER_BARE_SOIL</th>\n",
       "    </tr>\n",
       "  </thead>\n",
       "  <tbody>\n",
       "    <tr>\n",
       "      <th>count</th>\n",
       "      <td>374.000000</td>\n",
       "      <td>244.000000</td>\n",
       "      <td>147.0</td>\n",
       "      <td>439.000000</td>\n",
       "      <td>439.0</td>\n",
       "      <td>439.000000</td>\n",
       "      <td>439.000000</td>\n",
       "      <td>439.000000</td>\n",
       "    </tr>\n",
       "    <tr>\n",
       "      <th>mean</th>\n",
       "      <td>1111.802139</td>\n",
       "      <td>184.241803</td>\n",
       "      <td>0.0</td>\n",
       "      <td>36.913440</td>\n",
       "      <td>0.0</td>\n",
       "      <td>13.936219</td>\n",
       "      <td>4.341686</td>\n",
       "      <td>14.321185</td>\n",
       "    </tr>\n",
       "    <tr>\n",
       "      <th>std</th>\n",
       "      <td>227.223605</td>\n",
       "      <td>103.151667</td>\n",
       "      <td>0.0</td>\n",
       "      <td>30.059329</td>\n",
       "      <td>0.0</td>\n",
       "      <td>18.166670</td>\n",
       "      <td>12.113122</td>\n",
       "      <td>17.990339</td>\n",
       "    </tr>\n",
       "    <tr>\n",
       "      <th>min</th>\n",
       "      <td>730.000000</td>\n",
       "      <td>0.000000</td>\n",
       "      <td>0.0</td>\n",
       "      <td>0.000000</td>\n",
       "      <td>0.0</td>\n",
       "      <td>0.000000</td>\n",
       "      <td>0.000000</td>\n",
       "      <td>0.000000</td>\n",
       "    </tr>\n",
       "    <tr>\n",
       "      <th>25%</th>\n",
       "      <td>940.000000</td>\n",
       "      <td>135.000000</td>\n",
       "      <td>0.0</td>\n",
       "      <td>8.000000</td>\n",
       "      <td>0.0</td>\n",
       "      <td>1.000000</td>\n",
       "      <td>0.000000</td>\n",
       "      <td>1.000000</td>\n",
       "    </tr>\n",
       "    <tr>\n",
       "      <th>50%</th>\n",
       "      <td>1050.000000</td>\n",
       "      <td>180.000000</td>\n",
       "      <td>0.0</td>\n",
       "      <td>30.000000</td>\n",
       "      <td>0.0</td>\n",
       "      <td>8.000000</td>\n",
       "      <td>0.000000</td>\n",
       "      <td>8.000000</td>\n",
       "    </tr>\n",
       "    <tr>\n",
       "      <th>75%</th>\n",
       "      <td>1270.000000</td>\n",
       "      <td>270.000000</td>\n",
       "      <td>0.0</td>\n",
       "      <td>65.000000</td>\n",
       "      <td>0.0</td>\n",
       "      <td>20.000000</td>\n",
       "      <td>0.000000</td>\n",
       "      <td>20.000000</td>\n",
       "    </tr>\n",
       "    <tr>\n",
       "      <th>max</th>\n",
       "      <td>1920.000000</td>\n",
       "      <td>360.000000</td>\n",
       "      <td>0.0</td>\n",
       "      <td>100.000000</td>\n",
       "      <td>0.0</td>\n",
       "      <td>95.000000</td>\n",
       "      <td>80.000000</td>\n",
       "      <td>85.000000</td>\n",
       "    </tr>\n",
       "  </tbody>\n",
       "</table>\n",
       "</div>"
      ],
      "text/plain": [
       "         ELEVATION      ASPECT  SLOPE  COVER_LITTER_LAYER  COVER_OPEN_WATER  \\\n",
       "count   374.000000  244.000000  147.0          439.000000             439.0   \n",
       "mean   1111.802139  184.241803    0.0           36.913440               0.0   \n",
       "std     227.223605  103.151667    0.0           30.059329               0.0   \n",
       "min     730.000000    0.000000    0.0            0.000000               0.0   \n",
       "25%     940.000000  135.000000    0.0            8.000000               0.0   \n",
       "50%    1050.000000  180.000000    0.0           30.000000               0.0   \n",
       "75%    1270.000000  270.000000    0.0           65.000000               0.0   \n",
       "max    1920.000000  360.000000    0.0          100.000000               0.0   \n",
       "\n",
       "       COVER_ROCK  COVER_CRUST  COVER_BARE_SOIL  \n",
       "count  439.000000   439.000000       439.000000  \n",
       "mean    13.936219     4.341686        14.321185  \n",
       "std     18.166670    12.113122        17.990339  \n",
       "min      0.000000     0.000000         0.000000  \n",
       "25%      1.000000     0.000000         1.000000  \n",
       "50%      8.000000     0.000000         8.000000  \n",
       "75%     20.000000     0.000000        20.000000  \n",
       "max     95.000000    80.000000        85.000000  "
      ]
     },
     "execution_count": 13,
     "metadata": {},
     "output_type": "execute_result"
    }
   ],
   "source": [
    "env_numeric.describe()"
   ]
  },
  {
   "attachments": {},
   "cell_type": "markdown",
   "metadata": {},
   "source": [
    "## Question 1 Part 5"
   ]
  },
  {
   "attachments": {},
   "cell_type": "markdown",
   "metadata": {},
   "source": [
    "#### Merge the two data frames together by the column TURBOVEG_PLOT_NUMBER"
   ]
  },
  {
   "cell_type": "code",
   "execution_count": 14,
   "metadata": {},
   "outputs": [
    {
     "data": {
      "text/plain": [
       "(439, 419)"
      ]
     },
     "execution_count": 14,
     "metadata": {},
     "output_type": "execute_result"
    }
   ],
   "source": [
    "''' For the merge, let pandas make a new copy of the dataframe to avoid unrecoverable mistakes ''' \n",
    "\n",
    "result=pd.merge(env, species, on = \"TURBOVEG_PLOT_NUMBER\")\n",
    "result.shape\n"
   ]
  },
  {
   "attachments": {},
   "cell_type": "markdown",
   "metadata": {},
   "source": [
    "## Question 1 Part 6"
   ]
  },
  {
   "attachments": {},
   "cell_type": "markdown",
   "metadata": {},
   "source": [
    "#### How many rows in the merged data frame contain missing data? \n",
    "\n",
    "#### Cannot just count the number of missing data entries because one row might have more than one missing element. (So, count of missing data!= count of rows with missing data, necessarily.)\n",
    "\n",
    "#### First, create a list that counts the number of missing data entries per row. Then, filter for rows with nonzero counts. Count these. This is the number of rows with missing data."
   ]
  },
  {
   "cell_type": "code",
   "execution_count": 15,
   "metadata": {},
   "outputs": [
    {
     "data": {
      "text/plain": [
       "' In the merged data frame, 422 rows are missing data '"
      ]
     },
     "execution_count": 15,
     "metadata": {},
     "output_type": "execute_result"
    }
   ],
   "source": [
    "rows_missing_data = result.isnull().sum(axis=1) #Tally across the columns, once per row. The result is a pandas series.\n",
    "rows_missing_data[rows_missing_data > 0].shape #A series has only one column, so 'shape' counts the rows satisfying the filter.\n",
    "\n",
    "''' In the merged data frame, 422 rows are missing data '''"
   ]
  },
  {
   "attachments": {},
   "cell_type": "markdown",
   "metadata": {},
   "source": [
    "### Question 1, part 7.\n",
    "\n",
    "##### Which species was present in the most plots?\n",
    "\n",
    "##### Each species (Latin name) is a column. If the species is present in the PLOT_NUMBER, its column entry non-zero in that plot number's row. If it is absent, its column entry is zero in that row."
   ]
  },
  {
   "attachments": {},
   "cell_type": "markdown",
   "metadata": {},
   "source": [
    "\n",
    "##### The first species is 'Abietinella abietina' and the last species is 'Xanthoria elegans' '''"
   ]
  },
  {
   "attachments": {},
   "cell_type": "markdown",
   "metadata": {},
   "source": [
    "##### The species present in the most plots is the species (column) greatest count of non-zero entries in it.\n",
    "##### Create a dictionary with key = species and value = # of plots it belongs to.\n",
    "##### Then, report the dictionary key with the largest value.\n",
    "\n",
    "#### The species present in the most plots is CETRARIA ISLANDICA (229 plots)."
   ]
  },
  {
   "cell_type": "code",
   "execution_count": 16,
   "metadata": {},
   "outputs": [
    {
     "data": {
      "text/plain": [
       "('Cetraria islandica', 229)"
      ]
     },
     "execution_count": 16,
     "metadata": {},
     "output_type": "execute_result"
    }
   ],
   "source": [
    "d={} #an empty dictionary\n",
    "#species = result.columns.to_list()[first_species:1+last_species] #All of the species in the order listed by the dataframe\n",
    "for species in result.loc[:,'Abietinella abietina':'Xanthoria elegans'].columns: #Loop across species\n",
    "    col = result[species]\n",
    "    d[species]=col[col>0].shape[0] #The number of non-zero entries in the column == species' presence across plots.\n",
    "sorted(d.items(),key=lambda t: t[1], reverse = True)[0] #Sort the dictionary by value, from highest to lowest. The first entry is the answer."
   ]
  },
  {
   "attachments": {},
   "cell_type": "markdown",
   "metadata": {},
   "source": [
    "## Question 1 Part 8"
   ]
  },
  {
   "attachments": {},
   "cell_type": "markdown",
   "metadata": {},
   "source": [
    "\n",
    "##### For all rows in species, calculate the sum of all the columns (excluding \"TURBOVEG_PLOT_NUMBER\") for each row. Add this sum as a new column called \"totals\".\n",
    "##### Dataframe 'species' is indexed by row number. \n",
    "##### Create a dictionary with key = PLOT_NUMBER and value = row sum. \n"
   ]
  },
  {
   "cell_type": "code",
   "execution_count": 21,
   "metadata": {},
   "outputs": [],
   "source": [
    "indexed_by_plot = species.set_index('TURBOVEG_PLOT_NUMBER')\n",
    "d = {}\n",
    "for j, row in indexed_by_plot.iterrows():\n",
    "    d[row.name] = row.sum() # The loop turns a row into a series, temporarily\n",
    "indexed_by_plot['totals'] = pd.Series(d)"
   ]
  },
  {
   "cell_type": "code",
   "execution_count": 22,
   "metadata": {},
   "outputs": [
    {
     "data": {
      "text/plain": [
       "TURBOVEG_PLOT_NUMBER\n",
       "10925     79.5\n",
       "10926    101.0\n",
       "10927    135.5\n",
       "10928     84.0\n",
       "10929     84.5\n",
       "Name: totals, dtype: float64"
      ]
     },
     "execution_count": 22,
     "metadata": {},
     "output_type": "execute_result"
    }
   ],
   "source": [
    "indexed_by_plot['totals'].head(5)"
   ]
  },
  {
   "attachments": {},
   "cell_type": "markdown",
   "metadata": {},
   "source": [
    "#### Put the PLOT_NUMBER back the way it was, as a column."
   ]
  },
  {
   "cell_type": "code",
   "execution_count": 23,
   "metadata": {},
   "outputs": [],
   "source": [
    "orig_species = indexed_by_plot.reset_index()"
   ]
  },
  {
   "cell_type": "code",
   "execution_count": 24,
   "metadata": {},
   "outputs": [
    {
     "data": {
      "text/html": [
       "<div>\n",
       "<style scoped>\n",
       "    .dataframe tbody tr th:only-of-type {\n",
       "        vertical-align: middle;\n",
       "    }\n",
       "\n",
       "    .dataframe tbody tr th {\n",
       "        vertical-align: top;\n",
       "    }\n",
       "\n",
       "    .dataframe thead th {\n",
       "        text-align: right;\n",
       "    }\n",
       "</style>\n",
       "<table border=\"1\" class=\"dataframe\">\n",
       "  <thead>\n",
       "    <tr style=\"text-align: right;\">\n",
       "      <th></th>\n",
       "      <th>TURBOVEG_PLOT_NUMBER</th>\n",
       "      <th>Abietinella abietina</th>\n",
       "      <th>Acarospora schleicheri</th>\n",
       "      <th>Aconitum delphinifolium delphinifolium</th>\n",
       "      <th>Alectoria ochroleuca</th>\n",
       "      <th>Parmelia almquistii</th>\n",
       "      <th>Dactylina madreporiformis</th>\n",
       "      <th>Alnus crispa crispa</th>\n",
       "      <th>Amphidium mougeotii</th>\n",
       "      <th>Andreaea blyttii</th>\n",
       "      <th>...</th>\n",
       "      <th>Vaccinium uliginosum microphyllum</th>\n",
       "      <th>Vaccinium uliginosum alpinum</th>\n",
       "      <th>Vaccinium vitis-idaea minus</th>\n",
       "      <th>Valeriana capitata</th>\n",
       "      <th>Cetraria tilesii</th>\n",
       "      <th>Wilhelmsia physodes</th>\n",
       "      <th>Woodsia alpina</th>\n",
       "      <th>Woodsia glabella</th>\n",
       "      <th>Xanthoria elegans</th>\n",
       "      <th>totals</th>\n",
       "    </tr>\n",
       "  </thead>\n",
       "  <tbody>\n",
       "    <tr>\n",
       "      <th>0</th>\n",
       "      <td>10925</td>\n",
       "      <td>0.0</td>\n",
       "      <td>0.0</td>\n",
       "      <td>0.0</td>\n",
       "      <td>0.0</td>\n",
       "      <td>1.0</td>\n",
       "      <td>0.0</td>\n",
       "      <td>0</td>\n",
       "      <td>0</td>\n",
       "      <td>0.0</td>\n",
       "      <td>...</td>\n",
       "      <td>0</td>\n",
       "      <td>0.0</td>\n",
       "      <td>0.0</td>\n",
       "      <td>0.0</td>\n",
       "      <td>0.0</td>\n",
       "      <td>0</td>\n",
       "      <td>0.0</td>\n",
       "      <td>0.0</td>\n",
       "      <td>0</td>\n",
       "      <td>79.5</td>\n",
       "    </tr>\n",
       "    <tr>\n",
       "      <th>1</th>\n",
       "      <td>10926</td>\n",
       "      <td>0.0</td>\n",
       "      <td>0.0</td>\n",
       "      <td>0.0</td>\n",
       "      <td>6.0</td>\n",
       "      <td>0.0</td>\n",
       "      <td>0.0</td>\n",
       "      <td>0</td>\n",
       "      <td>0</td>\n",
       "      <td>0.0</td>\n",
       "      <td>...</td>\n",
       "      <td>0</td>\n",
       "      <td>0.0</td>\n",
       "      <td>0.0</td>\n",
       "      <td>0.0</td>\n",
       "      <td>0.0</td>\n",
       "      <td>0</td>\n",
       "      <td>0.0</td>\n",
       "      <td>0.0</td>\n",
       "      <td>0</td>\n",
       "      <td>101.0</td>\n",
       "    </tr>\n",
       "    <tr>\n",
       "      <th>2</th>\n",
       "      <td>10927</td>\n",
       "      <td>0.0</td>\n",
       "      <td>0.0</td>\n",
       "      <td>0.0</td>\n",
       "      <td>0.0</td>\n",
       "      <td>1.0</td>\n",
       "      <td>0.0</td>\n",
       "      <td>0</td>\n",
       "      <td>0</td>\n",
       "      <td>0.0</td>\n",
       "      <td>...</td>\n",
       "      <td>0</td>\n",
       "      <td>0.0</td>\n",
       "      <td>0.0</td>\n",
       "      <td>0.0</td>\n",
       "      <td>0.0</td>\n",
       "      <td>0</td>\n",
       "      <td>0.0</td>\n",
       "      <td>0.0</td>\n",
       "      <td>0</td>\n",
       "      <td>135.5</td>\n",
       "    </tr>\n",
       "  </tbody>\n",
       "</table>\n",
       "<p>3 rows × 410 columns</p>\n",
       "</div>"
      ],
      "text/plain": [
       "   TURBOVEG_PLOT_NUMBER  Abietinella abietina  Acarospora schleicheri  \\\n",
       "0                 10925                   0.0                     0.0   \n",
       "1                 10926                   0.0                     0.0   \n",
       "2                 10927                   0.0                     0.0   \n",
       "\n",
       "   Aconitum delphinifolium delphinifolium  Alectoria ochroleuca  \\\n",
       "0                                     0.0                   0.0   \n",
       "1                                     0.0                   6.0   \n",
       "2                                     0.0                   0.0   \n",
       "\n",
       "   Parmelia almquistii  Dactylina madreporiformis  Alnus crispa crispa  \\\n",
       "0                  1.0                        0.0                    0   \n",
       "1                  0.0                        0.0                    0   \n",
       "2                  1.0                        0.0                    0   \n",
       "\n",
       "   Amphidium mougeotii  Andreaea blyttii  ...  \\\n",
       "0                    0               0.0  ...   \n",
       "1                    0               0.0  ...   \n",
       "2                    0               0.0  ...   \n",
       "\n",
       "   Vaccinium uliginosum microphyllum  Vaccinium uliginosum alpinum  \\\n",
       "0                                  0                           0.0   \n",
       "1                                  0                           0.0   \n",
       "2                                  0                           0.0   \n",
       "\n",
       "   Vaccinium vitis-idaea minus  Valeriana capitata  Cetraria tilesii  \\\n",
       "0                          0.0                 0.0               0.0   \n",
       "1                          0.0                 0.0               0.0   \n",
       "2                          0.0                 0.0               0.0   \n",
       "\n",
       "   Wilhelmsia physodes  Woodsia alpina  Woodsia glabella  Xanthoria elegans  \\\n",
       "0                    0             0.0               0.0                  0   \n",
       "1                    0             0.0               0.0                  0   \n",
       "2                    0             0.0               0.0                  0   \n",
       "\n",
       "   totals  \n",
       "0    79.5  \n",
       "1   101.0  \n",
       "2   135.5  \n",
       "\n",
       "[3 rows x 410 columns]"
      ]
     },
     "execution_count": 24,
     "metadata": {},
     "output_type": "execute_result"
    }
   ],
   "source": [
    "orig_species.head(3)"
   ]
  },
  {
   "attachments": {},
   "cell_type": "markdown",
   "metadata": {},
   "source": [
    "## Question 1 Part 9"
   ]
  },
  {
   "attachments": {},
   "cell_type": "markdown",
   "metadata": {},
   "source": [
    "##### Read the description included above for the species data frame. Are there any inconsistencies between the description and the data? Explain. If there are inconsistences, what would you do to correct them?\n",
    "\n",
    "##### The series data frame is described as having categorical entries, some of them non-numeric. The species cover percentage 1-100%  in a plot should be binned into categories 1-5. \n",
    "##### Coverage less than 1% should have non-numeric characters ('r' or '+'). Instead, the series data frame only has percentages expressed as (100*p)%. \n",
    "##### To correct this, I would 1) create a new dataframe with the same row/column structure that would permit non-numeric entries and 2) write a function that would translate percentages 1-100% to the 1-5 categories according to the description. Without more information, distinguishing between rare ('r') and common < 1% ('+') would be guesswork. \n",
    "##### There are only two distinct entries for < 1%, 0.1 and 0.5. I might guess that 0.1 --> rare and 0.5 --> common < 1%."
   ]
  },
  {
   "cell_type": "code",
   "execution_count": 25,
   "metadata": {},
   "outputs": [],
   "source": [
    "''' A loop that builds the set of unique entries in the series data frame. '''\n",
    "d = set() #an empty set\n",
    "for species in result.loc[:,'Abietinella abietina':'Xanthoria elegans'].columns:\n",
    "    col = result[species].tolist()\n",
    "    d.update(col)\n",
    "#d"
   ]
  },
  {
   "cell_type": "markdown",
   "metadata": {},
   "source": [
    "## Question 2: Plotting (15 pt)\n",
    "\n",
    "Make a figure showing the relationship between elevation and cover rock percentage. Is there a positive relationship, negative relationship, or no relationship between the two variables? (3 pt)\n",
    "\n",
    "Make a figure showing the distribution of the `\"totals\"` column you created in the `species` data frame. Print summary statistics for this column, as well. (3 pt)\n",
    "\n",
    "Create a subset of `env` containing rows with the plant community names `\"Caricetum scirpoideae-rupestris\"`,`\"Pedicularo kanei-Caricetum glacialis\"`, and `\"Saxifrago tricuspidatae-Artemisietum alaskanae\"`. (2 pt)\n",
    "\n",
    "Create a figure to compare the mean cover bare soil percentage of the plant communities. Describe what the figure tells us-> are there differences among the plant communities in cover bare soil percentage? Which has the highest median value? The lowest? Are there differences in the spread among the communities? (4 pt)\n",
    "\n",
    "For all figures, label your axes descriptively with units. If necessary, create legends. Make your figures large enough to be easily readable, and **make sure that no text is overlapping**. Save all figures, and make sure to commit them (3 pt).\n",
    "\n",
    "\n"
   ]
  },
  {
   "attachments": {},
   "cell_type": "markdown",
   "metadata": {},
   "source": [
    "## Question 2 Part 1"
   ]
  },
  {
   "attachments": {},
   "cell_type": "markdown",
   "metadata": {},
   "source": [
    "##### Make a figure showing the relationship between elevation and cover rock percentage. Is there a positive relationship, negative relationship, or no relationship between the two variables? "
   ]
  },
  {
   "cell_type": "code",
   "execution_count": 43,
   "metadata": {},
   "outputs": [
    {
     "data": {
      "image/png": "[encoded data removed]",
      "text/plain": [
       "<Figure size 640x480 with 1 Axes>"
      ]
     },
     "metadata": {},
     "output_type": "display_data"
    }
   ],
   "source": [
    "''' Start with a simple scatterplot. At first glance, there does not seem to be a relationship between elevation and rock coverage. ''' \n",
    "from matplotlib import pyplot as plt\n",
    "%matplotlib inline\n",
    "\n",
    "sp=env.plot(x='ELEVATION', y='COVER_ROCK', kind='scatter')\n",
    "plt.suptitle('')\n",
    "sp.set_title('Scatterplot of Rock Cover versus Elevation')\n",
    "sp.set_xlabel('Elevation (m)')\n",
    "sp.set_ylabel('Rock cover (%)')\n",
    "plt.savefig('scatterplot.png')"
   ]
  },
  {
   "cell_type": "code",
   "execution_count": 27,
   "metadata": {},
   "outputs": [
    {
     "data": {
      "text/plain": [
       "65"
      ]
     },
     "execution_count": 27,
     "metadata": {},
     "output_type": "execute_result"
    }
   ],
   "source": [
    "''' Summary statistics about both columns. Notice, there are fewer ELEVATION entries (374) than COVER_ROCK entries (439)'''\n",
    "env[['ELEVATION','COVER_ROCK']].describe()\n",
    "\n",
    "''' Turns out, there are 65 unknown elevations (np.NaN)'''\n",
    "env['ELEVATION'].isna().sum() # 65"
   ]
  },
  {
   "cell_type": "code",
   "execution_count": 28,
   "metadata": {},
   "outputs": [
    {
     "data": {
      "text/plain": [
       "count    65.000000\n",
       "mean     10.384615\n",
       "std      14.605962\n",
       "min       0.000000\n",
       "25%       0.000000\n",
       "50%       5.000000\n",
       "75%      15.000000\n",
       "max      70.000000\n",
       "Name: COVER_ROCK, dtype: float64"
      ]
     },
     "execution_count": 28,
     "metadata": {},
     "output_type": "execute_result"
    }
   ],
   "source": [
    "''' And, when elevation is unknown, rock coverage tends to be low, also. 75% of unknown elevations correspond to 15% or less rock coverage.'''\n",
    "env[env['ELEVATION'].isna()==True]['COVER_ROCK'].describe()"
   ]
  },
  {
   "attachments": {},
   "cell_type": "markdown",
   "metadata": {},
   "source": [
    "##### Rather than a scatterplot, draw a set of boxplots against complete data (elevation and rock coverage are both known). Bin the coverage percentages into deciles (percentiles that are multiples of '10')."
   ]
  },
  {
   "cell_type": "code",
   "execution_count": 44,
   "metadata": {},
   "outputs": [
    {
     "data": {
      "image/png": "[encoded data removed]",
      "text/plain": [
       "<Figure size 640x480 with 1 Axes>"
      ]
     },
     "metadata": {},
     "output_type": "display_data"
    }
   ],
   "source": [
    "from matplotlib import pyplot as plt\n",
    "%matplotlib inline \n",
    "\n",
    "complete_data = env[env['ELEVATION'].isna()==False][['ELEVATION','COVER_ROCK']]\n",
    "complete_data['COVER_DECILE'] = pd.qcut(complete_data['COVER_ROCK'],10, duplicates='drop')\n",
    "bp = complete_data.boxplot(column='ELEVATION', by='COVER_DECILE', \n",
    "                           color=dict(boxes='k', whiskers='k', medians='r', caps='k'), vert=False)\n",
    "bp.grid(False)\n",
    "plt.suptitle('')\n",
    "bp.set_title('Variation in Elevation by Rock cover %')\n",
    "bp.set_xlabel('Elevation (m)')\n",
    "bp.set_ylabel('Rock cover (%)')\n",
    "plt.savefig('Rock Boxplot.png')"
   ]
  },
  {
   "attachments": {},
   "cell_type": "markdown",
   "metadata": {},
   "source": [
    "#### The overlap between boxplot whiskers is so similar, and the respective medians (green lines inside each box) do not trend strongly higher or lower as rock\n",
    "#### coverage rises. I conclude the is *no relationship* between ELEVATION and ROCK COVERAGE.\n",
    "##### Make a figure showing the distribution of the \"totals\" column you created in the species data frame. "
   ]
  },
  {
   "cell_type": "code",
   "execution_count": 45,
   "metadata": {},
   "outputs": [
    {
     "data": {
      "image/png": "[encoded data removed]",
      "text/plain": [
       "<Figure size 640x480 with 1 Axes>"
      ]
     },
     "metadata": {},
     "output_type": "display_data"
    }
   ],
   "source": [
    "hist = orig_species['totals'].hist(bins=20, edgecolor='w') #give the bars a white outline\n",
    "hist.set_title('Distribution of the {totals} column.')\n",
    "hist.set_xlabel('Row sum for the plot number')\n",
    "hist.set_ylabel('Count')\n",
    "hist.grid(False) #remove the gridlines\n",
    "plt.savefig('totals_column_histogram.png')\n"
   ]
  },
  {
   "attachments": {},
   "cell_type": "markdown",
   "metadata": {},
   "source": [
    "##### Print summary statistics for this column, as well. "
   ]
  },
  {
   "cell_type": "code",
   "execution_count": 35,
   "metadata": {},
   "outputs": [
    {
     "data": {
      "text/plain": [
       "count    439.000000\n",
       "mean     144.146469\n",
       "std       74.729961\n",
       "min       10.000000\n",
       "25%       87.000000\n",
       "50%      132.000000\n",
       "75%      188.250000\n",
       "max      380.500000\n",
       "Name: totals, dtype: float64"
      ]
     },
     "execution_count": 35,
     "metadata": {},
     "output_type": "execute_result"
    }
   ],
   "source": [
    "orig_species['totals'].describe()"
   ]
  },
  {
   "attachments": {},
   "cell_type": "markdown",
   "metadata": {},
   "source": [
    "##### Create a subset of env containing rows with the plant community names \"Caricetum scirpoideae-rupestris\",\"Pedicularo kanei-Caricetum glacialis\", and \"Saxifrago tricuspidatae-Artemisietum alaskanae\""
   ]
  },
  {
   "cell_type": "code",
   "execution_count": 36,
   "metadata": {},
   "outputs": [
    {
     "data": {
      "text/plain": [
       "(42, 11)"
      ]
     },
     "execution_count": 36,
     "metadata": {},
     "output_type": "execute_result"
    }
   ],
   "source": [
    "plant_subset = env[env['PLANT_COMMUNITY_NAME'].isin([\"Caricetum scirpoideae-rupestris\",\"Pedicularo kanei-Caricetum glacialis\",\"Saxifrago tricuspidatae-Artemisietum alaskanae\"])]\n",
    "plant_subset.shape"
   ]
  },
  {
   "attachments": {},
   "cell_type": "markdown",
   "metadata": {},
   "source": [
    "##### Create a figure to compare the mean cover bare soil percentage of the plant communities. Describe what the figure tells us-> \n",
    "##### are there differences among the plant communities in cover bare soil percentage? Which has the highest median value? The lowest? Are there differences in the spread among the communities?"
   ]
  },
  {
   "cell_type": "code",
   "execution_count": 46,
   "metadata": {},
   "outputs": [
    {
     "data": {
      "image/png": "[encoded data removed]",
      "text/plain": [
       "<Figure size 640x480 with 1 Axes>"
      ]
     },
     "metadata": {},
     "output_type": "display_data"
    }
   ],
   "source": [
    "from matplotlib import pyplot as plt\n",
    "%matplotlib inline \n",
    "bp = plant_subset.boxplot(column='COVER_BARE_SOIL', by='PLANT_COMMUNITY_NAME', vert=False, \n",
    "                          color=dict(boxes='k', whiskers='k', medians='orange', caps='k'), showmeans=True)\n",
    "bp.grid(False)\n",
    "plt.suptitle('')\n",
    "bp.set_title('Comparing bare soil coverage of three plant communities.')\n",
    "bp.set_xlabel('Cover bare soil (%)')\n",
    "bp.set_ylabel('Plant community')\n",
    "plt.savefig('plant_boxplot.png')"
   ]
  },
  {
   "attachments": {},
   "cell_type": "markdown",
   "metadata": {},
   "source": [
    "#### In each boxplot, the median coverage is the |, and mean coverage is the triangle. S.t-A.a (abbreviated) has the highest median bare soil coverage; P.k-C.g and C.s-r are tied for the lowest median coverage. However, P.k-C.g has the highest *mean* coverage. There are differences between the communities: S.t-A.a never exceeds 30% coverage; C.s-r has the greatest spread in coverage. ####"
   ]
  },
  {
   "cell_type": "code",
   "execution_count": 38,
   "metadata": {},
   "outputs": [
    {
     "data": {
      "text/plain": [
       "(17.5, 17.5)"
      ]
     },
     "execution_count": 38,
     "metadata": {},
     "output_type": "execute_result"
    }
   ],
   "source": [
    "( plant_subset[plant_subset['PLANT_COMMUNITY_NAME']==\"Pedicularo kanei-Caricetum glacialis\"]['COVER_BARE_SOIL'].median(),\n",
    "plant_subset[plant_subset['PLANT_COMMUNITY_NAME']==\"Caricetum scirpoideae-rupestris\"]['COVER_BARE_SOIL'].median() )"
   ]
  }
 ],
 "metadata": {
  "kernelspec": {
   "display_name": "base",
   "language": "python",
   "name": "python3"
  },
  "language_info": {
   "codemirror_mode": {
    "name": "ipython",
    "version": 3
   },
   "file_extension": ".py",
   "mimetype": "text/x-python",
   "name": "python",
   "nbconvert_exporter": "python",
   "pygments_lexer": "ipython3",
   "version": "3.9.13"
  },
  "orig_nbformat": 4
 },
 "nbformat": 4,
 "nbformat_minor": 2
}
